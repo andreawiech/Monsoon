{
 "cells": [
  {
   "cell_type": "markdown",
   "id": "48fe393d-5a35-4c26-8938-3658d82f894e",
   "metadata": {},
   "source": [
    "this is a test too, joepieee"
   ]
  },
  {
   "cell_type": "code",
   "execution_count": null,
   "id": "32a1d2f6-8b9a-4822-98db-5526b426f5b0",
   "metadata": {},
   "outputs": [],
   "source": []
  }
 ],
 "metadata": {
  "kernelspec": {
   "display_name": "Python 3 (ipykernel)",
   "language": "python",
   "name": "python3"
  },
  "language_info": {
   "codemirror_mode": {
    "name": "ipython",
    "version": 3
   },
   "file_extension": ".py",
   "mimetype": "text/x-python",
   "name": "python",
   "nbconvert_exporter": "python",
   "pygments_lexer": "ipython3",
   "version": "3.11.6"
  }
 },
 "nbformat": 4,
 "nbformat_minor": 5
}

